{
  "nbformat": 4,
  "nbformat_minor": 0,
  "metadata": {
    "kernelspec": {
      "display_name": "Python 3 (system-wide)",
      "language": "python",
      "metadata": {
        "cocalc": {
          "description": "Python 3 programming language",
          "priority": 100,
          "url": "https://www.python.org/"
        }
      },
      "name": "python3"
    },
    "language_info": {
      "codemirror_mode": {
        "name": "ipython",
        "version": 3
      },
      "file_extension": ".py",
      "mimetype": "text/x-python",
      "name": "python",
      "nbconvert_exporter": "python",
      "pygments_lexer": "ipython3",
      "version": "3.6.9"
    },
    "colab": {
      "name": "Coding a Neural Network: Image Classification.ipynb",
      "provenance": [],
      "collapsed_sections": []
    }
  },
  "cells": [
    {
      "cell_type": "markdown",
      "metadata": {
        "collapsed": false,
        "id": "bXvNxYUOqfWW",
        "colab_type": "text"
      },
      "source": [
        "<h2>Coding A Neural Network: Image Classification</h2>"
      ]
    },
    {
      "cell_type": "markdown",
      "metadata": {
        "collapsed": false,
        "id": "RzQ8KMgPqfWY",
        "colab_type": "text"
      },
      "source": [
        "<h3>Step 1: Load the Libraries</h3>"
      ]
    },
    {
      "cell_type": "code",
      "metadata": {
        "id": "viRU5eGAqfWZ",
        "colab_type": "code",
        "outputId": "c272be97-5f50-4364-856a-fa4b65fcd326",
        "colab": {
          "base_uri": "https://localhost:8080/",
          "height": 34
        }
      },
      "source": [
        "import keras                               # deep learning package\n",
        "from keras.datasets import mnist           # dataset we will use to train our model\n",
        "from keras.layers import Dense             # Dense describes how the layers are connected\n",
        "from keras.models import Sequential        # Sequential means we are creating a sequence of connectec layers\n",
        "from keras.optimizers import SGD           # Sochastic gradient descent is the method used to find local minimum\n",
        "import matplotlib.pyplot as plt            # visualize images\n",
        "from keras.preprocessing import image      # preprocess images\n",
        "#import tensorflowjs as tfjs"
      ],
      "execution_count": 0,
      "outputs": [
        {
          "output_type": "stream",
          "text": [
            "Using TensorFlow backend.\n"
          ],
          "name": "stderr"
        }
      ]
    },
    {
      "cell_type": "code",
      "metadata": {
        "id": "37A9A_XcqfWd",
        "colab_type": "code",
        "colab": {}
      },
      "source": [
        ""
      ],
      "execution_count": 0,
      "outputs": []
    },
    {
      "cell_type": "markdown",
      "metadata": {
        "collapsed": false,
        "id": "oKwvtuj8qfWg",
        "colab_type": "text"
      },
      "source": [
        "<h3>Step 2: Obtain Data</h3>"
      ]
    },
    {
      "cell_type": "code",
      "metadata": {
        "id": "iCAINmODqfWg",
        "colab_type": "code",
        "outputId": "6316985d-a98f-4413-81ea-5b6539b5a8ef",
        "colab": {
          "base_uri": "https://localhost:8080/",
          "height": 51
        }
      },
      "source": [
        "(train_x,train_y),(test_x,test_y) = mnist.load_data()\n",
        "(train_x,train_y),(test_x,test_y) = mnist.load_data()"
      ],
      "execution_count": 0,
      "outputs": [
        {
          "output_type": "stream",
          "text": [
            "Downloading data from https://s3.amazonaws.com/img-datasets/mnist.npz\n",
            "11493376/11490434 [==============================] - 1s 0us/step\n"
          ],
          "name": "stdout"
        }
      ]
    },
    {
      "cell_type": "markdown",
      "metadata": {
        "collapsed": false,
        "id": "0HwWIM-kqfWj",
        "colab_type": "text"
      },
      "source": [
        "<h3>Step 3: Reshape Data</h3>"
      ]
    },
    {
      "cell_type": "code",
      "metadata": {
        "id": "Pc4ErJ6jqfWk",
        "colab_type": "code",
        "outputId": "4d21c970-1b5d-4629-87e6-b79f0938455d",
        "colab": {
          "base_uri": "https://localhost:8080/",
          "height": 86
        }
      },
      "source": [
        "#print(train_x.shape)\n",
        "#print(test_x.shape)\n",
        "\n",
        "\n",
        "train_x= train_x.reshape(60000,784)\n",
        "test_x= test_x.reshape(10000,784)\n",
        "\n",
        "train_y = keras.utils.to_categorical(train_y,10)\n",
        "test_y = keras.utils.to_categorical(test_y,10)\n",
        "\n",
        "print(train_x.shape)\n",
        "print(test_x.shape)\n",
        "print(train_y.shape)\n",
        "print(test_y.shape)"
      ],
      "execution_count": 0,
      "outputs": [
        {
          "output_type": "stream",
          "text": [
            "(60000, 784)\n",
            "(10000, 784)\n",
            "(60000, 10)\n",
            "(10000, 10)\n"
          ],
          "name": "stdout"
        }
      ]
    },
    {
      "cell_type": "markdown",
      "metadata": {
        "collapsed": false,
        "id": "nU6BMLQbqfWn",
        "colab_type": "text"
      },
      "source": [
        "<h3>Step 4: Define Your Model</h3>"
      ]
    },
    {
      "cell_type": "code",
      "metadata": {
        "id": "gJz4JqFXqfWo",
        "colab_type": "code",
        "outputId": "0b821d30-e351-40e2-e9f3-c9e1ff38103e",
        "colab": {
          "base_uri": "https://localhost:8080/",
          "height": 294
        }
      },
      "source": [
        "model = Sequential()\n",
        "model.add(Dense(units=128,activation='relu',input_shape=(784,)))\n",
        "model.add(Dense(units=128,activation='relu'))\n",
        "model.add(Dense(units=128,activation='relu'))\n",
        "model.add(Dense(units=10,activation='softmax'))\n",
        "model.summary()"
      ],
      "execution_count": 0,
      "outputs": [
        {
          "output_type": "stream",
          "text": [
            "Model: \"sequential_1\"\n",
            "_________________________________________________________________\n",
            "Layer (type)                 Output Shape              Param #   \n",
            "=================================================================\n",
            "dense_1 (Dense)              (None, 128)               100480    \n",
            "_________________________________________________________________\n",
            "dense_2 (Dense)              (None, 128)               16512     \n",
            "_________________________________________________________________\n",
            "dense_3 (Dense)              (None, 128)               16512     \n",
            "_________________________________________________________________\n",
            "dense_4 (Dense)              (None, 10)                1290      \n",
            "=================================================================\n",
            "Total params: 134,794\n",
            "Trainable params: 134,794\n",
            "Non-trainable params: 0\n",
            "_________________________________________________________________\n"
          ],
          "name": "stdout"
        }
      ]
    },
    {
      "cell_type": "code",
      "metadata": {
        "id": "4XQbxOhuqfW0",
        "colab_type": "code",
        "outputId": "4143f483-f70e-496c-a1ed-ce8beccdd7ff",
        "colab": {
          "base_uri": "https://localhost:8080/",
          "height": 533
        }
      },
      "source": [
        "#another way to visualize the network\n",
        "keras.utils.plot_model(\n",
        "    model,\n",
        "    show_shapes=True,\n",
        "    show_layer_names=True,\n",
        ")"
      ],
      "execution_count": 0,
      "outputs": [
        {
          "output_type": "execute_result",
          "data": {
            "image/png": "[encoded data removed]",
            "text/plain": [
              "<IPython.core.display.Image object>"
            ]
          },
          "metadata": {
            "tags": []
          },
          "execution_count": 16
        }
      ]
    },
    {
      "cell_type": "markdown",
      "metadata": {
        "collapsed": false,
        "id": "QqLDL-MNqfWr",
        "colab_type": "text"
      },
      "source": [
        "<h3>Step 5: Compile Your Model</h3>"
      ]
    },
    {
      "cell_type": "code",
      "metadata": {
        "id": "lI8_qmNHqfWr",
        "colab_type": "code",
        "colab": {}
      },
      "source": [
        "model.compile(optimizer=SGD(0.001),loss='categorical_crossentropy',metrics=['accuracy'])\n"
      ],
      "execution_count": 0,
      "outputs": []
    },
    {
      "cell_type": "markdown",
      "metadata": {
        "collapsed": false,
        "id": "YiCXMbrbqfWu",
        "colab_type": "text"
      },
      "source": [
        "<h3>Step 6: Fit Your Model</h3>"
      ]
    },
    {
      "cell_type": "code",
      "metadata": {
        "scrolled": true,
        "id": "XdjTNXeHqfWv",
        "colab_type": "code",
        "outputId": "fcc5f6ff-007d-4992-d459-b81955676ade",
        "colab": {
          "base_uri": "https://localhost:8080/",
          "height": 1000
        }
      },
      "source": [
        "history=model.fit(train_x,train_y,batch_size=32,epochs=50,verbose=1)"
      ],
      "execution_count": 0,
      "outputs": [
        {
          "output_type": "stream",
          "text": [
            "Epoch 1/50\n",
            "60000/60000 [==============================] - 4s 73us/step - loss: 1.0273 - accuracy: 0.8518\n",
            "Epoch 2/50\n",
            "60000/60000 [==============================] - 4s 68us/step - loss: 0.2777 - accuracy: 0.9245\n",
            "Epoch 3/50\n",
            "60000/60000 [==============================] - 4s 69us/step - loss: 0.1996 - accuracy: 0.9430\n",
            "Epoch 4/50\n",
            "60000/60000 [==============================] - 4s 69us/step - loss: 0.1579 - accuracy: 0.9532\n",
            "Epoch 5/50\n",
            "60000/60000 [==============================] - 4s 67us/step - loss: 0.1314 - accuracy: 0.9608\n",
            "Epoch 6/50\n",
            "60000/60000 [==============================] - 4s 69us/step - loss: 0.1122 - accuracy: 0.9660\n",
            "Epoch 7/50\n",
            "60000/60000 [==============================] - 4s 68us/step - loss: 0.0968 - accuracy: 0.9708\n",
            "Epoch 8/50\n",
            "60000/60000 [==============================] - 4s 68us/step - loss: 0.0854 - accuracy: 0.9743\n",
            "Epoch 9/50\n",
            "60000/60000 [==============================] - 4s 68us/step - loss: 0.0758 - accuracy: 0.9767\n",
            "Epoch 10/50\n",
            "60000/60000 [==============================] - 4s 68us/step - loss: 0.0669 - accuracy: 0.9794\n",
            "Epoch 11/50\n",
            "60000/60000 [==============================] - 4s 69us/step - loss: 0.0615 - accuracy: 0.9805\n",
            "Epoch 12/50\n",
            "60000/60000 [==============================] - 4s 70us/step - loss: 0.0546 - accuracy: 0.9835\n",
            "Epoch 13/50\n",
            "60000/60000 [==============================] - 4s 71us/step - loss: 0.0486 - accuracy: 0.9856\n",
            "Epoch 14/50\n",
            "60000/60000 [==============================] - 4s 70us/step - loss: 0.0443 - accuracy: 0.9868\n",
            "Epoch 15/50\n",
            "60000/60000 [==============================] - 4s 71us/step - loss: 0.0402 - accuracy: 0.9881\n",
            "Epoch 16/50\n",
            "60000/60000 [==============================] - 4s 71us/step - loss: 0.0364 - accuracy: 0.9892\n",
            "Epoch 17/50\n",
            "60000/60000 [==============================] - 4s 71us/step - loss: 0.0329 - accuracy: 0.9904\n",
            "Epoch 18/50\n",
            "60000/60000 [==============================] - 4s 69us/step - loss: 0.0301 - accuracy: 0.9915\n",
            "Epoch 19/50\n",
            "60000/60000 [==============================] - 4s 70us/step - loss: 0.0270 - accuracy: 0.9925\n",
            "Epoch 20/50\n",
            "60000/60000 [==============================] - 4s 69us/step - loss: 0.0251 - accuracy: 0.9931\n",
            "Epoch 21/50\n",
            "60000/60000 [==============================] - 4s 69us/step - loss: 0.0221 - accuracy: 0.9940\n",
            "Epoch 22/50\n",
            "60000/60000 [==============================] - 4s 66us/step - loss: 0.0200 - accuracy: 0.9949\n",
            "Epoch 23/50\n",
            "60000/60000 [==============================] - 4s 69us/step - loss: 0.0186 - accuracy: 0.9955\n",
            "Epoch 24/50\n",
            "60000/60000 [==============================] - 4s 69us/step - loss: 0.0166 - accuracy: 0.9959\n",
            "Epoch 25/50\n",
            "60000/60000 [==============================] - 4s 69us/step - loss: 0.0151 - accuracy: 0.9969\n",
            "Epoch 26/50\n",
            "60000/60000 [==============================] - 4s 68us/step - loss: 0.0135 - accuracy: 0.9973\n",
            "Epoch 27/50\n",
            "60000/60000 [==============================] - 4s 69us/step - loss: 0.0126 - accuracy: 0.9975\n",
            "Epoch 28/50\n",
            "60000/60000 [==============================] - 4s 73us/step - loss: 0.0110 - accuracy: 0.9980\n",
            "Epoch 29/50\n",
            "60000/60000 [==============================] - 4s 74us/step - loss: 0.0102 - accuracy: 0.9984\n",
            "Epoch 30/50\n",
            "60000/60000 [==============================] - 4s 69us/step - loss: 0.0095 - accuracy: 0.9986\n",
            "Epoch 31/50\n",
            "60000/60000 [==============================] - 4s 68us/step - loss: 0.0085 - accuracy: 0.9990\n",
            "Epoch 32/50\n",
            "60000/60000 [==============================] - 4s 69us/step - loss: 0.0076 - accuracy: 0.9991\n",
            "Epoch 33/50\n",
            "60000/60000 [==============================] - 4s 68us/step - loss: 0.0072 - accuracy: 0.9992\n",
            "Epoch 34/50\n",
            "60000/60000 [==============================] - 4s 69us/step - loss: 0.0065 - accuracy: 0.9994\n",
            "Epoch 35/50\n",
            "60000/60000 [==============================] - 4s 70us/step - loss: 0.0059 - accuracy: 0.9995\n",
            "Epoch 36/50\n",
            "60000/60000 [==============================] - 4s 70us/step - loss: 0.0056 - accuracy: 0.9995\n",
            "Epoch 37/50\n",
            "60000/60000 [==============================] - 4s 69us/step - loss: 0.0051 - accuracy: 0.9996\n",
            "Epoch 38/50\n",
            "60000/60000 [==============================] - 4s 69us/step - loss: 0.0047 - accuracy: 0.9997\n",
            "Epoch 39/50\n",
            "60000/60000 [==============================] - 4s 69us/step - loss: 0.0044 - accuracy: 0.9997\n",
            "Epoch 40/50\n",
            "60000/60000 [==============================] - 4s 69us/step - loss: 0.0039 - accuracy: 0.9998\n",
            "Epoch 41/50\n",
            "60000/60000 [==============================] - 4s 69us/step - loss: 0.0036 - accuracy: 0.9998\n",
            "Epoch 42/50\n",
            "60000/60000 [==============================] - 4s 69us/step - loss: 0.0034 - accuracy: 0.9999\n",
            "Epoch 43/50\n",
            "60000/60000 [==============================] - 4s 69us/step - loss: 0.0032 - accuracy: 0.9999\n",
            "Epoch 44/50\n",
            "60000/60000 [==============================] - 4s 69us/step - loss: 0.0030 - accuracy: 0.9999\n",
            "Epoch 45/50\n",
            "60000/60000 [==============================] - 4s 67us/step - loss: 0.0028 - accuracy: 0.9999\n",
            "Epoch 46/50\n",
            "60000/60000 [==============================] - 4s 69us/step - loss: 0.0026 - accuracy: 0.9999\n",
            "Epoch 47/50\n",
            "60000/60000 [==============================] - 4s 68us/step - loss: 0.0025 - accuracy: 1.0000\n",
            "Epoch 48/50\n",
            "60000/60000 [==============================] - 4s 66us/step - loss: 0.0023 - accuracy: 1.0000\n",
            "Epoch 49/50\n",
            "60000/60000 [==============================] - 4s 67us/step - loss: 0.0022 - accuracy: 1.0000\n",
            "Epoch 50/50\n",
            "60000/60000 [==============================] - 4s 69us/step - loss: 0.0021 - accuracy: 1.0000\n"
          ],
          "name": "stdout"
        }
      ]
    },
    {
      "cell_type": "markdown",
      "metadata": {
        "collapsed": false,
        "id": "TDRnGz74qfWz",
        "colab_type": "text"
      },
      "source": [
        "<h3>Step 7: Save Your Model</h3>"
      ]
    },
    {
      "cell_type": "code",
      "metadata": {
        "id": "O9WA9tbmSGq1",
        "colab_type": "code",
        "colab": {}
      },
      "source": [
        "model.save(\"mnistmodel.h5\")                   #save the whole model into a file to be used later"
      ],
      "execution_count": 0,
      "outputs": []
    },
    {
      "cell_type": "markdown",
      "metadata": {
        "collapsed": false,
        "id": "CGPoIyphqfW2",
        "colab_type": "text"
      },
      "source": [
        "<h3>Step 8: Assess Model Performance</h3>"
      ]
    },
    {
      "cell_type": "code",
      "metadata": {
        "scrolled": true,
        "id": "VxrMv4oTqfW3",
        "colab_type": "code",
        "outputId": "225427bd-f852-4ded-cbd3-2d055e3d1ca8",
        "colab": {
          "base_uri": "https://localhost:8080/",
          "height": 51
        }
      },
      "source": [
        "accuracy = model.evaluate(x=test_x,y=test_y,batch_size=32)       #assess the model performance: accuracy\n",
        "print(\"Accuracy: \",accuracy[1])                                  #print the accuracy"
      ],
      "execution_count": 0,
      "outputs": [
        {
          "output_type": "stream",
          "text": [
            "10000/10000 [==============================] - 0s 28us/step\n",
            "Accuracy:  0.9591000080108643\n"
          ],
          "name": "stdout"
        }
      ]
    },
    {
      "cell_type": "code",
      "metadata": {
        "id": "3pwlwpB6qfW5",
        "colab_type": "code",
        "outputId": "c584cbdf-9c24-44d9-819e-66435890c459",
        "colab": {
          "base_uri": "https://localhost:8080/",
          "height": 295
        }
      },
      "source": [
        "# summarize history for accuracy\n",
        "#print(history.history.keys())\n",
        "plt.plot(history.history['accuracy'])           #plot accuracy\n",
        "plt.title('model accuracy')                #add a title for the plot\n",
        "plt.ylabel('accuracy')                     #add a y axis label\n",
        "plt.xlabel('epoch')                        #add x axis label\n",
        "plt.legend(['train'], loc='upper left')    #add a legend and specify the position\n",
        "plt.show()"
      ],
      "execution_count": 0,
      "outputs": [
        {
          "output_type": "display_data",
          "data": {
            "image/png": "[encoded data removed]",
            "text/plain": [
              "<Figure size 432x288 with 1 Axes>"
            ]
          },
          "metadata": {
            "tags": [],
            "needs_background": "light"
          }
        }
      ]
    },
    {
      "cell_type": "code",
      "metadata": {
        "id": "2s6T4gTpqfW8",
        "colab_type": "code",
        "outputId": "f577fb94-c138-4dbf-9756-03e098c9e754",
        "colab": {
          "base_uri": "https://localhost:8080/",
          "height": 295
        }
      },
      "source": [
        "#lets plot loss now\n",
        "plt.plot(history.history['loss'])          #plot loss\n",
        "plt.title('model loss')                    #add a title for the plot\n",
        "plt.ylabel('loss')                         #add a y axis label\n",
        "plt.xlabel('epoch')                        #add x axis label\n",
        "plt.legend(['train'], loc='upper left')    #add a legend and specify the position\n",
        "plt.show()    "
      ],
      "execution_count": 0,
      "outputs": [
        {
          "output_type": "display_data",
          "data": {
            "image/png": "[encoded data removed]",
            "text/plain": [
              "<Figure size 432x288 with 1 Axes>"
            ]
          },
          "metadata": {
            "tags": [],
            "needs_background": "light"
          }
        }
      ]
    },
    {
      "cell_type": "markdown",
      "metadata": {
        "collapsed": false,
        "id": "7vMSN0w6qfW-",
        "colab_type": "text"
      },
      "source": [
        "<h3>Step 9: Test a Case</h3>"
      ]
    },
    {
      "cell_type": "code",
      "metadata": {
        "scrolled": true,
        "id": "Uzyup3jSqfW-",
        "colab_type": "code",
        "outputId": "0d6ab7cb-3b6f-4e4f-a688-d1ac5a6aa12c",
        "colab": {
          "base_uri": "https://localhost:8080/",
          "height": 282
        }
      },
      "source": [
        "sample=test_x[36]\n",
        "sample=sample.reshape((28,28))\n",
        "plt.imshow(sample)"
      ],
      "execution_count": 0,
      "outputs": [
        {
          "output_type": "execute_result",
          "data": {
            "text/plain": [
              "<matplotlib.image.AxesImage at 0x7f27b75d6cc0>"
            ]
          },
          "metadata": {
            "tags": []
          },
          "execution_count": 7
        },
        {
          "output_type": "display_data",
          "data": {
            "image/png": "[encoded data removed]",
            "text/plain": [
              "<Figure size 432x288 with 1 Axes>"
            ]
          },
          "metadata": {
            "tags": [],
            "needs_background": "light"
          }
        }
      ]
    },
    {
      "cell_type": "code",
      "metadata": {
        "id": "bpiL--MhqfXB",
        "colab_type": "code",
        "colab": {}
      },
      "source": [
        "sample=sample.reshape((1,784))\n",
        "prediction=model.predict_classes(sample)"
      ],
      "execution_count": 0,
      "outputs": []
    },
    {
      "cell_type": "code",
      "metadata": {
        "id": "zwpKmGIjqfXE",
        "colab_type": "code",
        "outputId": "9fa56fdd-3cd9-48e9-dd6a-6635a53900f8",
        "colab": {
          "base_uri": "https://localhost:8080/",
          "height": 34
        }
      },
      "source": [
        "prediction"
      ],
      "execution_count": 0,
      "outputs": [
        {
          "output_type": "execute_result",
          "data": {
            "text/plain": [
              "array([7])"
            ]
          },
          "metadata": {
            "tags": []
          },
          "execution_count": 13
        }
      ]
    },
    {
      "cell_type": "code",
      "metadata": {
        "id": "o9gegxR-sNxW",
        "colab_type": "code",
        "outputId": "5e00a728-ca78-4dd8-bba3-10e74dbabd33",
        "colab": {
          "base_uri": "https://localhost:8080/",
          "height": 68
        }
      },
      "source": [
        "model.predict(sample)"
      ],
      "execution_count": 0,
      "outputs": [
        {
          "output_type": "execute_result",
          "data": {
            "text/plain": [
              "array([[7.3485369e-18, 1.4551365e-21, 3.5935082e-07, 2.4023868e-11,\n",
              "        3.0107959e-20, 5.5548918e-16, 9.0739052e-29, 9.9999964e-01,\n",
              "        1.1354879e-17, 9.8294951e-17]], dtype=float32)"
            ]
          },
          "metadata": {
            "tags": []
          },
          "execution_count": 14
        }
      ]
    }
  ]
}